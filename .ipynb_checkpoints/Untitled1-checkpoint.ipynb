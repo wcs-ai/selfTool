{
 "cells": [
  {
   "cell_type": "code",
   "execution_count": null,
   "metadata": {},
   "outputs": [],
   "source": [
    "import plotly_express as px\t\n",
    "gapminder = px.data.gapminder()\t\n",
    "gapminder2007 = gapminder.query('year == 2007')\t\n",
    "px.scatter(gapminder2007, x='gdpPercap', y='lifeExp')\n",
    "\n",
    "import plotly_express as px\n",
    "gapminder = px.data.gapminder()\n",
    "gapminder2007 = gapminder.query('year == 2007')\n",
    "fig = px.scatter(gapminder2007, x='gdpPercap', y='lifeExp')\n",
    "fig.show()\n"
   ]
  }
 ],
 "metadata": {
  "kernelspec": {
   "display_name": "Python 3",
   "language": "python",
   "name": "python3"
  }
 },
 "nbformat": 4,
 "nbformat_minor": 2
}
